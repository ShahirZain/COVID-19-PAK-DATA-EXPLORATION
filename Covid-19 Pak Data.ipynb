{
 "cells": [
  {
   "cell_type": "markdown",
   "metadata": {},
   "source": [
    "Introduction\n",
    "Pakistan may not be rich country with lots of resources, but it has so far held off Corona virus using a number of steps. This dataset is tracking those efforts and their impact towards Corona virus prevention.\n",
    "\n",
    "Related Information about COVID-19 COVID-19 may not be fatal but it spreads faster than other diseases, like common cold. Every virus has Basic Reproduction number (R0) which implies how many people will get the disease from the infected person. As per inital reseach work R0 of COVID-19 is 2.7.\n",
    "\n",
    "Currently the goal of all scientists around the world is to \"Flatten the Curve\". COVID-19 currently has exponential growth rate around the world which we will be seeing in the notebook ahead. Flattening the Curve typically implies even if the number of Confirmed Cases are increasing but the distribution of those cases should be over longer timestamp. To put it in simple words if say suppose COVID-19 is going infect 100K people then those many people should be infected in 1 year but not in a month.\n",
    "\n",
    "The sole reason to Flatten the Curve is to reudce the load on the Medical Systems so as to increase the focus of Research to find the Medicine for the disease.\n",
    "\n",
    "Every Pandemic has four stages:\n",
    "\n",
    "Stage 1: Confirmed Cases come from other countries\n",
    "\n",
    "Stage 2: Local Transmission Begins\n",
    "\n",
    "Stage 3: Communities impacted with local transimission\n",
    "\n",
    "Stage 4: Significant Transmission with no end in sight\n",
    "\n",
    "Italy and Korea are the two countries which are currently in Stage 4 While India is in Stage 2.\n",
    "\n",
    "Other ways to tackle the disease like Corona other than Travel Ban, Cross-Border shutdown, isolation, closure of some high risk market places, Contact Tracing and Quarantine.\n",
    "\n",
    "Reference\n",
    "https://www.kaggle.com/neelkudu28/covid-19-visualizations-predictions-forecasting"
   ]
  },
  {
   "cell_type": "code",
   "execution_count": 1,
   "metadata": {},
   "outputs": [],
   "source": [
    "import numpy as np\n",
    "import pandas as pd\n",
    "import matplotlib.pyplot as plt"
   ]
  },
  {
   "cell_type": "code",
   "execution_count": 3,
   "metadata": {},
   "outputs": [],
   "source": [
    " data = pd.read_csv('data/22-March.csv')  "
   ]
  },
  {
   "cell_type": "code",
   "execution_count": 7,
   "metadata": {},
   "outputs": [],
   "source": [
    "PakData=data[data[\"Country/Region\"]==\"Pakistan\"]"
   ]
  },
  {
   "cell_type": "code",
   "execution_count": 9,
   "metadata": {},
   "outputs": [
    {
     "data": {
      "text/html": [
       "<div>\n",
       "<style scoped>\n",
       "    .dataframe tbody tr th:only-of-type {\n",
       "        vertical-align: middle;\n",
       "    }\n",
       "\n",
       "    .dataframe tbody tr th {\n",
       "        vertical-align: top;\n",
       "    }\n",
       "\n",
       "    .dataframe thead th {\n",
       "        text-align: right;\n",
       "    }\n",
       "</style>\n",
       "<table border=\"1\" class=\"dataframe\">\n",
       "  <thead>\n",
       "    <tr style=\"text-align: right;\">\n",
       "      <th></th>\n",
       "      <th>Province/State</th>\n",
       "      <th>Country/Region</th>\n",
       "      <th>Lat</th>\n",
       "      <th>Long</th>\n",
       "      <th>1/22/20</th>\n",
       "      <th>1/23/20</th>\n",
       "      <th>1/24/20</th>\n",
       "      <th>1/25/20</th>\n",
       "      <th>1/26/20</th>\n",
       "      <th>1/27/20</th>\n",
       "      <th>...</th>\n",
       "      <th>3/12/20</th>\n",
       "      <th>3/13/20</th>\n",
       "      <th>3/14/20</th>\n",
       "      <th>3/15/20</th>\n",
       "      <th>3/16/20</th>\n",
       "      <th>3/17/20</th>\n",
       "      <th>3/18/20</th>\n",
       "      <th>3/19/20</th>\n",
       "      <th>3/20/20</th>\n",
       "      <th>3/21/20</th>\n",
       "    </tr>\n",
       "  </thead>\n",
       "  <tbody>\n",
       "    <tr>\n",
       "      <td>34</td>\n",
       "      <td>NaN</td>\n",
       "      <td>Pakistan</td>\n",
       "      <td>30.3753</td>\n",
       "      <td>69.3451</td>\n",
       "      <td>0</td>\n",
       "      <td>0</td>\n",
       "      <td>0</td>\n",
       "      <td>0</td>\n",
       "      <td>0</td>\n",
       "      <td>0</td>\n",
       "      <td>...</td>\n",
       "      <td>20</td>\n",
       "      <td>28</td>\n",
       "      <td>31</td>\n",
       "      <td>53</td>\n",
       "      <td>136</td>\n",
       "      <td>236</td>\n",
       "      <td>299</td>\n",
       "      <td>454</td>\n",
       "      <td>501</td>\n",
       "      <td>730</td>\n",
       "    </tr>\n",
       "  </tbody>\n",
       "</table>\n",
       "<p>1 rows × 64 columns</p>\n",
       "</div>"
      ],
      "text/plain": [
       "   Province/State Country/Region      Lat     Long  1/22/20  1/23/20  1/24/20  \\\n",
       "34            NaN       Pakistan  30.3753  69.3451        0        0        0   \n",
       "\n",
       "    1/25/20  1/26/20  1/27/20  ...  3/12/20  3/13/20  3/14/20  3/15/20  \\\n",
       "34        0        0        0  ...       20       28       31       53   \n",
       "\n",
       "    3/16/20  3/17/20  3/18/20  3/19/20  3/20/20  3/21/20  \n",
       "34      136      236      299      454      501      730  \n",
       "\n",
       "[1 rows x 64 columns]"
      ]
     },
     "execution_count": 9,
     "metadata": {},
     "output_type": "execute_result"
    }
   ],
   "source": [
    "PakData"
   ]
  },
  {
   "cell_type": "code",
   "execution_count": 12,
   "metadata": {},
   "outputs": [
    {
     "data": {
      "text/plain": [
       "Index(['Province/State', 'Country/Region', 'Lat', 'Long', '1/22/20', '1/23/20',\n",
       "       '1/24/20', '1/25/20', '1/26/20', '1/27/20', '1/28/20', '1/29/20',\n",
       "       '1/30/20', '1/31/20', '2/1/20', '2/2/20', '2/3/20', '2/4/20', '2/5/20',\n",
       "       '2/6/20', '2/7/20', '2/8/20', '2/9/20', '2/10/20', '2/11/20', '2/12/20',\n",
       "       '2/13/20', '2/14/20', '2/15/20', '2/16/20', '2/17/20', '2/18/20',\n",
       "       '2/19/20', '2/20/20', '2/21/20', '2/22/20', '2/23/20', '2/24/20',\n",
       "       '2/25/20', '2/26/20', '2/27/20', '2/28/20', '2/29/20', '3/1/20',\n",
       "       '3/2/20', '3/3/20', '3/4/20', '3/5/20', '3/6/20', '3/7/20', '3/8/20',\n",
       "       '3/9/20', '3/10/20', '3/11/20', '3/12/20', '3/13/20', '3/14/20',\n",
       "       '3/15/20', '3/16/20', '3/17/20', '3/18/20', '3/19/20', '3/20/20',\n",
       "       '3/21/20'],\n",
       "      dtype='object')"
      ]
     },
     "execution_count": 12,
     "metadata": {},
     "output_type": "execute_result"
    }
   ],
   "source": [
    "PakData.columns"
   ]
  },
  {
   "cell_type": "code",
   "execution_count": 13,
   "metadata": {},
   "outputs": [
    {
     "data": {
      "text/plain": [
       "Province/State     object\n",
       "Country/Region     object\n",
       "Lat               float64\n",
       "Long              float64\n",
       "1/22/20             int64\n",
       "                   ...   \n",
       "3/17/20             int64\n",
       "3/18/20             int64\n",
       "3/19/20             int64\n",
       "3/20/20             int64\n",
       "3/21/20             int64\n",
       "Length: 64, dtype: object"
      ]
     },
     "execution_count": 13,
     "metadata": {},
     "output_type": "execute_result"
    }
   ],
   "source": [
    "PakData.dtypes"
   ]
  },
  {
   "cell_type": "code",
   "execution_count": 37,
   "metadata": {},
   "outputs": [],
   "source": [
    "PakDataDate = PakData.drop(['Province/State','Country/Region','Lat','Long','1/22/20', '1/23/20',\n",
    "       '1/24/20', '1/25/20', '1/26/20', '1/27/20', '1/28/20', '1/29/20',\n",
    "       '1/30/20', '1/31/20', '2/1/20', '2/2/20', '2/3/20', '2/4/20', '2/5/20',\n",
    "       '2/6/20', '2/7/20', '2/8/20', '2/9/20', '2/10/20', '2/11/20', '2/12/20',\n",
    "       '2/13/20', '2/14/20', '2/15/20', '2/16/20', '2/17/20', '2/18/20',\n",
    "       '2/19/20', '2/20/20', '2/21/20', '2/22/20', '2/23/20', '2/24/20',\n",
    "       '2/25/20', '2/26/20', '2/27/20', '2/28/20', '2/29/20', '3/1/20'],axis=1)"
   ]
  },
  {
   "cell_type": "code",
   "execution_count": 41,
   "metadata": {},
   "outputs": [
    {
     "data": {
      "text/plain": [
       "[<matplotlib.lines.Line2D at 0x7fc4dc8aed10>]"
      ]
     },
     "execution_count": 41,
     "metadata": {},
     "output_type": "execute_result"
    },
    {
     "data": {
      "image/png": "[encoded data removed]",
      "text/plain": [
       "<Figure size 1152x432 with 1 Axes>"
      ]
     },
     "metadata": {
      "needs_background": "light"
     },
     "output_type": "display_data"
    }
   ],
   "source": [
    "fig= plt.figure(figsize=(16,6))\n",
    "PakDataDate.max()\n",
    "plt.plot(PakDataDate.max())"
   ]
  },
  {
   "cell_type": "code",
   "execution_count": 74,
   "metadata": {},
   "outputs": [],
   "source": [
    " df = pd.read_csv('data/corona-cases-in-pakistan/Corona Pakistan.csv')  "
   ]
  },
  {
   "cell_type": "code",
   "execution_count": 116,
   "metadata": {},
   "outputs": [
    {
     "data": {
      "text/html": [
       "<div>\n",
       "<style scoped>\n",
       "    .dataframe tbody tr th:only-of-type {\n",
       "        vertical-align: middle;\n",
       "    }\n",
       "\n",
       "    .dataframe tbody tr th {\n",
       "        vertical-align: top;\n",
       "    }\n",
       "\n",
       "    .dataframe thead th {\n",
       "        text-align: right;\n",
       "    }\n",
       "</style>\n",
       "<table border=\"1\" class=\"dataframe\">\n",
       "  <thead>\n",
       "    <tr style=\"text-align: right;\">\n",
       "      <th></th>\n",
       "      <th>SNo</th>\n",
       "      <th>Reporting Date</th>\n",
       "      <th>New(Last 24 Hours) - Suspected Cases</th>\n",
       "      <th>Cumulative - Suspected Cases</th>\n",
       "      <th>Cumulative Tests Performed in Last 24 Hours</th>\n",
       "      <th>Cumulative Tests Performed</th>\n",
       "      <th>Cumulative Test Positive Cases</th>\n",
       "      <th>Still Admitted</th>\n",
       "      <th>Discharged</th>\n",
       "      <th>Expired</th>\n",
       "      <th>Cumulative Travellers Screened</th>\n",
       "      <th>Returnees from China</th>\n",
       "      <th>Returnees from Iran</th>\n",
       "      <th>New Calls</th>\n",
       "      <th>Cumulative Calls</th>\n",
       "      <th>Global Cases</th>\n",
       "      <th>Global Deaths</th>\n",
       "    </tr>\n",
       "  </thead>\n",
       "  <tbody>\n",
       "    <tr>\n",
       "      <td>11</td>\n",
       "      <td>12</td>\n",
       "      <td>11/3/2020</td>\n",
       "      <td>14</td>\n",
       "      <td>248</td>\n",
       "      <td>80.0</td>\n",
       "      <td>422</td>\n",
       "      <td>19</td>\n",
       "      <td>18</td>\n",
       "      <td>1</td>\n",
       "      <td>0</td>\n",
       "      <td>873288</td>\n",
       "      <td>5342</td>\n",
       "      <td>9459</td>\n",
       "      <td>547</td>\n",
       "      <td>12481</td>\n",
       "      <td>118887</td>\n",
       "      <td>4290</td>\n",
       "    </tr>\n",
       "    <tr>\n",
       "      <td>10</td>\n",
       "      <td>11</td>\n",
       "      <td>12/3/2020</td>\n",
       "      <td>23</td>\n",
       "      <td>271</td>\n",
       "      <td>53.0</td>\n",
       "      <td>471</td>\n",
       "      <td>20</td>\n",
       "      <td>18</td>\n",
       "      <td>2</td>\n",
       "      <td>0</td>\n",
       "      <td>894256</td>\n",
       "      <td>5352</td>\n",
       "      <td>9475</td>\n",
       "      <td>686</td>\n",
       "      <td>13167</td>\n",
       "      <td>125860</td>\n",
       "      <td>4619</td>\n",
       "    </tr>\n",
       "    <tr>\n",
       "      <td>9</td>\n",
       "      <td>10</td>\n",
       "      <td>13/3/2020</td>\n",
       "      <td>47</td>\n",
       "      <td>318</td>\n",
       "      <td>60.0</td>\n",
       "      <td>531</td>\n",
       "      <td>21</td>\n",
       "      <td>19</td>\n",
       "      <td>2</td>\n",
       "      <td>0</td>\n",
       "      <td>913542</td>\n",
       "      <td>5362</td>\n",
       "      <td>9475</td>\n",
       "      <td>729</td>\n",
       "      <td>13896</td>\n",
       "      <td>133138</td>\n",
       "      <td>4983</td>\n",
       "    </tr>\n",
       "    <tr>\n",
       "      <td>8</td>\n",
       "      <td>9</td>\n",
       "      <td>14/3/2020</td>\n",
       "      <td>45</td>\n",
       "      <td>363</td>\n",
       "      <td>78.0</td>\n",
       "      <td>609</td>\n",
       "      <td>28</td>\n",
       "      <td>25</td>\n",
       "      <td>3</td>\n",
       "      <td>0</td>\n",
       "      <td>933970</td>\n",
       "      <td>5370</td>\n",
       "      <td>9480</td>\n",
       "      <td>1444</td>\n",
       "      <td>15340</td>\n",
       "      <td>144633</td>\n",
       "      <td>5438</td>\n",
       "    </tr>\n",
       "    <tr>\n",
       "      <td>7</td>\n",
       "      <td>8</td>\n",
       "      <td>15/3/2020</td>\n",
       "      <td>19</td>\n",
       "      <td>382</td>\n",
       "      <td>77.0</td>\n",
       "      <td>686</td>\n",
       "      <td>31</td>\n",
       "      <td>28</td>\n",
       "      <td>3</td>\n",
       "      <td>0</td>\n",
       "      <td>954646</td>\n",
       "      <td>5370</td>\n",
       "      <td>9480</td>\n",
       "      <td>3791</td>\n",
       "      <td>19131</td>\n",
       "      <td>154661</td>\n",
       "      <td>5813</td>\n",
       "    </tr>\n",
       "  </tbody>\n",
       "</table>\n",
       "</div>"
      ],
      "text/plain": [
       "    SNo Reporting Date  New(Last 24 Hours) - Suspected Cases  \\\n",
       "11   12      11/3/2020                                    14   \n",
       "10   11      12/3/2020                                    23   \n",
       "9    10      13/3/2020                                    47   \n",
       "8     9      14/3/2020                                    45   \n",
       "7     8      15/3/2020                                    19   \n",
       "\n",
       "    Cumulative - Suspected Cases  Cumulative Tests Performed in Last 24 Hours  \\\n",
       "11                           248                                         80.0   \n",
       "10                           271                                         53.0   \n",
       "9                            318                                         60.0   \n",
       "8                            363                                         78.0   \n",
       "7                            382                                         77.0   \n",
       "\n",
       "    Cumulative Tests Performed  Cumulative Test Positive Cases  \\\n",
       "11                         422                              19   \n",
       "10                         471                              20   \n",
       "9                          531                              21   \n",
       "8                          609                              28   \n",
       "7                          686                              31   \n",
       "\n",
       "    Still Admitted  Discharged  Expired  Cumulative Travellers Screened  \\\n",
       "11              18           1        0                          873288   \n",
       "10              18           2        0                          894256   \n",
       "9               19           2        0                          913542   \n",
       "8               25           3        0                          933970   \n",
       "7               28           3        0                          954646   \n",
       "\n",
       "    Returnees from China  Returnees from Iran  New Calls  Cumulative Calls  \\\n",
       "11                  5342                 9459        547             12481   \n",
       "10                  5352                 9475        686             13167   \n",
       "9                   5362                 9475        729             13896   \n",
       "8                   5370                 9480       1444             15340   \n",
       "7                   5370                 9480       3791             19131   \n",
       "\n",
       "    Global Cases  Global Deaths  \n",
       "11        118887           4290  \n",
       "10        125860           4619  \n",
       "9         133138           4983  \n",
       "8         144633           5438  \n",
       "7         154661           5813  "
      ]
     },
     "execution_count": 116,
     "metadata": {},
     "output_type": "execute_result"
    }
   ],
   "source": [
    "df.head()"
   ]
  },
  {
   "cell_type": "code",
   "execution_count": 81,
   "metadata": {},
   "outputs": [],
   "source": [
    "df.sort_values(\"Reporting Date\", axis = 0, ascending = True, \n",
    "                 inplace = True, na_position ='last') "
   ]
  },
  {
   "cell_type": "code",
   "execution_count": 82,
   "metadata": {},
   "outputs": [
    {
     "data": {
      "text/html": [
       "<div>\n",
       "<style scoped>\n",
       "    .dataframe tbody tr th:only-of-type {\n",
       "        vertical-align: middle;\n",
       "    }\n",
       "\n",
       "    .dataframe tbody tr th {\n",
       "        vertical-align: top;\n",
       "    }\n",
       "\n",
       "    .dataframe thead th {\n",
       "        text-align: right;\n",
       "    }\n",
       "</style>\n",
       "<table border=\"1\" class=\"dataframe\">\n",
       "  <thead>\n",
       "    <tr style=\"text-align: right;\">\n",
       "      <th></th>\n",
       "      <th>SNo</th>\n",
       "      <th>New(Last 24 Hours) - Suspected Cases</th>\n",
       "      <th>Cumulative - Suspected Cases</th>\n",
       "      <th>Cumulative Tests Performed in Last 24 Hours</th>\n",
       "      <th>Cumulative Tests Performed</th>\n",
       "      <th>Cumulative Test Positive Cases</th>\n",
       "      <th>Still Admitted</th>\n",
       "      <th>Discharged</th>\n",
       "      <th>Expired</th>\n",
       "      <th>Cumulative Travellers Screened</th>\n",
       "      <th>Returnees from China</th>\n",
       "      <th>Returnees from Iran</th>\n",
       "      <th>New Calls</th>\n",
       "      <th>Cumulative Calls</th>\n",
       "      <th>Global Cases</th>\n",
       "      <th>Global Deaths</th>\n",
       "    </tr>\n",
       "  </thead>\n",
       "  <tbody>\n",
       "    <tr>\n",
       "      <td>count</td>\n",
       "      <td>12.000000</td>\n",
       "      <td>12.000000</td>\n",
       "      <td>12.000000</td>\n",
       "      <td>7.000000</td>\n",
       "      <td>12.000000</td>\n",
       "      <td>12.000000</td>\n",
       "      <td>12.000000</td>\n",
       "      <td>12.000000</td>\n",
       "      <td>12.000000</td>\n",
       "      <td>1.200000e+01</td>\n",
       "      <td>12.000000</td>\n",
       "      <td>12.000000</td>\n",
       "      <td>12.000000</td>\n",
       "      <td>12.000000</td>\n",
       "      <td>12.000000</td>\n",
       "      <td>12.000000</td>\n",
       "    </tr>\n",
       "    <tr>\n",
       "      <td>mean</td>\n",
       "      <td>6.500000</td>\n",
       "      <td>176.666667</td>\n",
       "      <td>801.416667</td>\n",
       "      <td>140.857143</td>\n",
       "      <td>1779.916667</td>\n",
       "      <td>208.666667</td>\n",
       "      <td>204.000000</td>\n",
       "      <td>3.500000</td>\n",
       "      <td>0.833333</td>\n",
       "      <td>9.817548e+05</td>\n",
       "      <td>5406.333333</td>\n",
       "      <td>9482.250000</td>\n",
       "      <td>5198.166667</td>\n",
       "      <td>34340.000000</td>\n",
       "      <td>189096.583333</td>\n",
       "      <td>7500.750000</td>\n",
       "    </tr>\n",
       "    <tr>\n",
       "      <td>std</td>\n",
       "      <td>3.605551</td>\n",
       "      <td>223.822305</td>\n",
       "      <td>728.600085</td>\n",
       "      <td>160.342788</td>\n",
       "      <td>1599.683517</td>\n",
       "      <td>222.050499</td>\n",
       "      <td>219.590114</td>\n",
       "      <td>1.381699</td>\n",
       "      <td>1.267304</td>\n",
       "      <td>6.848767e+04</td>\n",
       "      <td>47.073122</td>\n",
       "      <td>9.106691</td>\n",
       "      <td>3457.680301</td>\n",
       "      <td>20731.325533</td>\n",
       "      <td>61241.934974</td>\n",
       "      <td>2820.049488</td>\n",
       "    </tr>\n",
       "    <tr>\n",
       "      <td>min</td>\n",
       "      <td>1.000000</td>\n",
       "      <td>14.000000</td>\n",
       "      <td>248.000000</td>\n",
       "      <td>53.000000</td>\n",
       "      <td>422.000000</td>\n",
       "      <td>19.000000</td>\n",
       "      <td>18.000000</td>\n",
       "      <td>1.000000</td>\n",
       "      <td>0.000000</td>\n",
       "      <td>8.732880e+05</td>\n",
       "      <td>5342.000000</td>\n",
       "      <td>9459.000000</td>\n",
       "      <td>547.000000</td>\n",
       "      <td>12481.000000</td>\n",
       "      <td>118887.000000</td>\n",
       "      <td>4290.000000</td>\n",
       "    </tr>\n",
       "    <tr>\n",
       "      <td>25%</td>\n",
       "      <td>3.750000</td>\n",
       "      <td>39.500000</td>\n",
       "      <td>351.750000</td>\n",
       "      <td>68.500000</td>\n",
       "      <td>589.500000</td>\n",
       "      <td>26.250000</td>\n",
       "      <td>23.500000</td>\n",
       "      <td>2.750000</td>\n",
       "      <td>0.000000</td>\n",
       "      <td>9.288630e+05</td>\n",
       "      <td>5368.000000</td>\n",
       "      <td>9478.750000</td>\n",
       "      <td>1265.250000</td>\n",
       "      <td>14979.000000</td>\n",
       "      <td>141759.250000</td>\n",
       "      <td>5324.250000</td>\n",
       "    </tr>\n",
       "    <tr>\n",
       "      <td>50%</td>\n",
       "      <td>6.500000</td>\n",
       "      <td>76.000000</td>\n",
       "      <td>487.500000</td>\n",
       "      <td>78.000000</td>\n",
       "      <td>1202.000000</td>\n",
       "      <td>120.000000</td>\n",
       "      <td>116.500000</td>\n",
       "      <td>3.500000</td>\n",
       "      <td>0.000000</td>\n",
       "      <td>9.857275e+05</td>\n",
       "      <td>5403.500000</td>\n",
       "      <td>9488.000000</td>\n",
       "      <td>7142.500000</td>\n",
       "      <td>29810.000000</td>\n",
       "      <td>174062.000000</td>\n",
       "      <td>6817.000000</td>\n",
       "    </tr>\n",
       "    <tr>\n",
       "      <td>75%</td>\n",
       "      <td>9.250000</td>\n",
       "      <td>190.250000</td>\n",
       "      <td>891.500000</td>\n",
       "      <td>109.500000</td>\n",
       "      <td>2336.750000</td>\n",
       "      <td>341.750000</td>\n",
       "      <td>333.250000</td>\n",
       "      <td>5.000000</td>\n",
       "      <td>2.000000</td>\n",
       "      <td>1.037734e+06</td>\n",
       "      <td>5445.250000</td>\n",
       "      <td>9488.000000</td>\n",
       "      <td>8113.500000</td>\n",
       "      <td>50812.500000</td>\n",
       "      <td>225102.500000</td>\n",
       "      <td>9114.250000</td>\n",
       "    </tr>\n",
       "    <tr>\n",
       "      <td>max</td>\n",
       "      <td>12.000000</td>\n",
       "      <td>709.000000</td>\n",
       "      <td>2574.000000</td>\n",
       "      <td>499.000000</td>\n",
       "      <td>5225.000000</td>\n",
       "      <td>646.000000</td>\n",
       "      <td>638.000000</td>\n",
       "      <td>5.000000</td>\n",
       "      <td>3.000000</td>\n",
       "      <td>1.077632e+06</td>\n",
       "      <td>5473.000000</td>\n",
       "      <td>9489.000000</td>\n",
       "      <td>8710.000000</td>\n",
       "      <td>65602.000000</td>\n",
       "      <td>307277.000000</td>\n",
       "      <td>13048.000000</td>\n",
       "    </tr>\n",
       "  </tbody>\n",
       "</table>\n",
       "</div>"
      ],
      "text/plain": [
       "             SNo  New(Last 24 Hours) - Suspected Cases  \\\n",
       "count  12.000000                             12.000000   \n",
       "mean    6.500000                            176.666667   \n",
       "std     3.605551                            223.822305   \n",
       "min     1.000000                             14.000000   \n",
       "25%     3.750000                             39.500000   \n",
       "50%     6.500000                             76.000000   \n",
       "75%     9.250000                            190.250000   \n",
       "max    12.000000                            709.000000   \n",
       "\n",
       "       Cumulative - Suspected Cases  \\\n",
       "count                     12.000000   \n",
       "mean                     801.416667   \n",
       "std                      728.600085   \n",
       "min                      248.000000   \n",
       "25%                      351.750000   \n",
       "50%                      487.500000   \n",
       "75%                      891.500000   \n",
       "max                     2574.000000   \n",
       "\n",
       "       Cumulative Tests Performed in Last 24 Hours  \\\n",
       "count                                     7.000000   \n",
       "mean                                    140.857143   \n",
       "std                                     160.342788   \n",
       "min                                      53.000000   \n",
       "25%                                      68.500000   \n",
       "50%                                      78.000000   \n",
       "75%                                     109.500000   \n",
       "max                                     499.000000   \n",
       "\n",
       "       Cumulative Tests Performed  Cumulative Test Positive Cases  \\\n",
       "count                   12.000000                       12.000000   \n",
       "mean                  1779.916667                      208.666667   \n",
       "std                   1599.683517                      222.050499   \n",
       "min                    422.000000                       19.000000   \n",
       "25%                    589.500000                       26.250000   \n",
       "50%                   1202.000000                      120.000000   \n",
       "75%                   2336.750000                      341.750000   \n",
       "max                   5225.000000                      646.000000   \n",
       "\n",
       "       Still Admitted  Discharged    Expired  Cumulative Travellers Screened  \\\n",
       "count       12.000000   12.000000  12.000000                    1.200000e+01   \n",
       "mean       204.000000    3.500000   0.833333                    9.817548e+05   \n",
       "std        219.590114    1.381699   1.267304                    6.848767e+04   \n",
       "min         18.000000    1.000000   0.000000                    8.732880e+05   \n",
       "25%         23.500000    2.750000   0.000000                    9.288630e+05   \n",
       "50%        116.500000    3.500000   0.000000                    9.857275e+05   \n",
       "75%        333.250000    5.000000   2.000000                    1.037734e+06   \n",
       "max        638.000000    5.000000   3.000000                    1.077632e+06   \n",
       "\n",
       "       Returnees from China  Returnees from Iran    New Calls  \\\n",
       "count             12.000000            12.000000    12.000000   \n",
       "mean            5406.333333          9482.250000  5198.166667   \n",
       "std               47.073122             9.106691  3457.680301   \n",
       "min             5342.000000          9459.000000   547.000000   \n",
       "25%             5368.000000          9478.750000  1265.250000   \n",
       "50%             5403.500000          9488.000000  7142.500000   \n",
       "75%             5445.250000          9488.000000  8113.500000   \n",
       "max             5473.000000          9489.000000  8710.000000   \n",
       "\n",
       "       Cumulative Calls   Global Cases  Global Deaths  \n",
       "count         12.000000      12.000000      12.000000  \n",
       "mean       34340.000000  189096.583333    7500.750000  \n",
       "std        20731.325533   61241.934974    2820.049488  \n",
       "min        12481.000000  118887.000000    4290.000000  \n",
       "25%        14979.000000  141759.250000    5324.250000  \n",
       "50%        29810.000000  174062.000000    6817.000000  \n",
       "75%        50812.500000  225102.500000    9114.250000  \n",
       "max        65602.000000  307277.000000   13048.000000  "
      ]
     },
     "execution_count": 82,
     "metadata": {},
     "output_type": "execute_result"
    }
   ],
   "source": [
    "df.describe()"
   ]
  },
  {
   "cell_type": "code",
   "execution_count": 83,
   "metadata": {},
   "outputs": [
    {
     "data": {
      "text/plain": [
       "Index(['SNo', 'Reporting Date', 'New(Last 24 Hours) - Suspected Cases',\n",
       "       'Cumulative - Suspected Cases',\n",
       "       'Cumulative Tests Performed in Last 24 Hours',\n",
       "       'Cumulative Tests Performed', 'Cumulative Test Positive Cases',\n",
       "       'Still Admitted', 'Discharged', 'Expired',\n",
       "       'Cumulative Travellers Screened', 'Returnees from China',\n",
       "       'Returnees from Iran', 'New Calls', 'Cumulative Calls', 'Global Cases',\n",
       "       'Global Deaths'],\n",
       "      dtype='object')"
      ]
     },
     "execution_count": 83,
     "metadata": {},
     "output_type": "execute_result"
    }
   ],
   "source": [
    "df.columns"
   ]
  },
  {
   "cell_type": "code",
   "execution_count": 120,
   "metadata": {},
   "outputs": [
    {
     "data": {
      "text/plain": [
       "<matplotlib.axes._subplots.AxesSubplot at 0x7fc4db453f90>"
      ]
     },
     "execution_count": 120,
     "metadata": {},
     "output_type": "execute_result"
    },
    {
     "data": {
      "image/png": "[encoded data removed]",
      "text/plain": [
       "<Figure size 1080x720 with 1 Axes>"
      ]
     },
     "metadata": {
      "needs_background": "light"
     },
     "output_type": "display_data"
    }
   ],
   "source": [
    "df[['Reporting Date','Cumulative Travellers Screened','Returnees from China','Returnees from Iran']].plot(x='Reporting Date',kind='line', title=\"Return back to Country\",figsize=(15,10))"
   ]
  },
  {
   "cell_type": "code",
   "execution_count": 119,
   "metadata": {},
   "outputs": [
    {
     "data": {
      "text/plain": [
       "<matplotlib.axes._subplots.AxesSubplot at 0x7fc4db483f50>"
      ]
     },
     "execution_count": 119,
     "metadata": {},
     "output_type": "execute_result"
    },
    {
     "data": {
      "image/png": "[encoded data removed]",
      "text/plain": [
       "<Figure size 432x288 with 1 Axes>"
      ]
     },
     "metadata": {
      "needs_background": "light"
     },
     "output_type": "display_data"
    }
   ],
   "source": [
    "df[['Reporting Date','Cumulative - Suspected Cases','Cumulative Test Positive Cases']].plot(x='Reporting Date',kind='line', title=\"Positive\")"
   ]
  },
  {
   "cell_type": "code",
   "execution_count": 118,
   "metadata": {},
   "outputs": [
    {
     "data": {
      "text/plain": [
       "<matplotlib.axes._subplots.AxesSubplot at 0x7fc4db502cd0>"
      ]
     },
     "execution_count": 118,
     "metadata": {},
     "output_type": "execute_result"
    },
    {
     "data": {
      "image/png": "[encoded data removed]",
      "text/plain": [
       "<Figure size 864x360 with 1 Axes>"
      ]
     },
     "metadata": {
      "needs_background": "light"
     },
     "output_type": "display_data"
    }
   ],
   "source": [
    "df[['Reporting Date','Cumulative Test Positive Cases','Still Admitted','Discharged','Expired']].plot(x='Reporting Date',kind='line', title=\"Over all exploration\",figsize=(12,5))"
   ]
  },
  {
   "cell_type": "code",
   "execution_count": 117,
   "metadata": {},
   "outputs": [
    {
     "data": {
      "text/plain": [
       "<matplotlib.axes._subplots.AxesSubplot at 0x7fc4db582550>"
      ]
     },
     "execution_count": 117,
     "metadata": {},
     "output_type": "execute_result"
    },
    {
     "data": {
      "image/png": "[encoded data removed]",
      "text/plain": [
       "<Figure size 720x720 with 1 Axes>"
      ]
     },
     "metadata": {
      "needs_background": "light"
     },
     "output_type": "display_data"
    }
   ],
   "source": [
    "df[['Reporting Date','Global Cases','Global Deaths']].plot(x='Reporting Date',kind='line', title=\"global result\",figsize=(10,10))"
   ]
  },
  {
   "cell_type": "markdown",
   "metadata": {},
   "source": [
    "COVID-19 doesn't have very high mortatlity rate as we can see which is the most positive take away. Also the healthily growing Recovery Rate implies the disease is cureable. The only matter of concern is the exponential growth rate of infection."
   ]
  },
  {
   "cell_type": "markdown",
   "metadata": {},
   "source": [
    "Pakistan is still at stage 1, and there is very little or no local transmission.\n",
    "\n",
    " Number of deaths, mortality is very small in Pakistan as compared to rest of the world."
   ]
  },
  {
   "cell_type": "code",
   "execution_count": null,
   "metadata": {},
   "outputs": [],
   "source": []
  }
 ],
 "metadata": {
  "kernelspec": {
   "display_name": "Python 3",
   "language": "python",
   "name": "python3"
  },
  "language_info": {
   "codemirror_mode": {
    "name": "ipython",
    "version": 3
   },
   "file_extension": ".py",
   "mimetype": "text/x-python",
   "name": "python",
   "nbconvert_exporter": "python",
   "pygments_lexer": "ipython3",
   "version": "3.7.4"
  }
 },
 "nbformat": 4,
 "nbformat_minor": 2
}
